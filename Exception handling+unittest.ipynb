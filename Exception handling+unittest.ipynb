{
 "cells": [
  {
   "cell_type": "markdown",
   "metadata": {},
   "source": [
    "# Exception Handling"
   ]
  },
  {
   "cell_type": "code",
   "execution_count": 3,
   "metadata": {},
   "outputs": [
    {
     "name": "stdout",
     "output_type": "stream",
     "text": [
      "enter an integerabc\n",
      "enter integers only\n",
      "enter an integer5\n",
      "enter another integerabc\n",
      "enter integers only\n",
      "enter an integer5 \n",
      "enter another integer6\n",
      "0.8333333333333334\n"
     ]
    }
   ],
   "source": [
    "# try and except block, handle the error\n",
    "\n",
    "# if any error comes and you have handld it it will print that otherwise error will be raised\n",
    "while True:\n",
    "    try :\n",
    "        c=input('enter an integer')\n",
    "        num=int(c)\n",
    "        n=input('enter another integer')\n",
    "        den=int(n)\n",
    "        print(num/den)\n",
    "        break\n",
    "        \n",
    "    except ValueError:\n",
    "        print('enter integers only')"
   ]
  },
  {
   "cell_type": "code",
   "execution_count": 5,
   "metadata": {},
   "outputs": [
    {
     "name": "stdout",
     "output_type": "stream",
     "text": [
      "enter an integer5\n",
      "enter another integer0\n",
      "denom not a zero\n",
      "enter an integer6\n",
      "enter another integer2\n",
      "3.0\n"
     ]
    }
   ],
   "source": [
    "# Handling multiple exception\n",
    "\n",
    "while True:\n",
    "    try :\n",
    "        c=input('enter an integer')\n",
    "        num=int(c)\n",
    "        n=input('enter another integer')\n",
    "        den=int(n)\n",
    "        print(num/den)\n",
    "        break\n",
    "        \n",
    "    except ValueError:\n",
    "        print('enter integers only')\n",
    "    except ZeroDivisionError:\n",
    "        print(\"denom not a zero\")\n"
   ]
  },
  {
   "cell_type": "code",
   "execution_count": 15,
   "metadata": {},
   "outputs": [
    {
     "name": "stdout",
     "output_type": "stream",
     "text": [
      "enter an integer1\n",
      "enter another integer0\n",
      "denominator should not be zero!!\n",
      "error raised\n",
      "enter an integer1\n",
      "enter another integer1\n",
      "1.0\n"
     ]
    }
   ],
   "source": [
    "# Custom Exceptions\n",
    "\n",
    "# derived from exception class\n",
    "class ZeroDenominator(Exception):\n",
    "    \n",
    "    def __init__(self):\n",
    "        print('denominator should not be zero!!')\n",
    "\n",
    "while True:\n",
    "    try :\n",
    "        c=input('enter an integer')\n",
    "        num=int(c)\n",
    "        n=input('enter another integer')\n",
    "        den=int(n)\n",
    "        if den==0:\n",
    "            raise ZeroDenominator   # Raise an error\n",
    "        print(num/den)\n",
    "        break\n",
    "        \n",
    "    except ValueError:\n",
    "        print('enter integers only')\n",
    "    except ZeroDivisionError:\n",
    "        print(\"denom not a zero\")\n",
    "    except ZeroDenominator:\n",
    "        print('error raised')\n"
   ]
  },
  {
   "cell_type": "code",
   "execution_count": 18,
   "metadata": {},
   "outputs": [
    {
     "name": "stdout",
     "output_type": "stream",
     "text": [
      "denominator should not be zero!!\n",
      "enter an integer1\n",
      "enter another integer1\n",
      "1.0\n"
     ]
    }
   ],
   "source": [
    "class ZeroDenominator(ZeroDivisionError):\n",
    "    \n",
    "    def __init__(self):\n",
    "        print('denominator should not be zero!!')\n",
    "\n",
    "while True:\n",
    "    try :\n",
    "        c=input('enter an integer')\n",
    "        num=int(c)\n",
    "        n=input('enter another integer')\n",
    "        den=int(n)\n",
    "        if den==0:\n",
    "            raise ZeroDenominator   # Raise an error\n",
    "        print(num/den)\n",
    "        break\n",
    "        \n",
    "    except ValueError:\n",
    "        print('enter integers only')\n",
    "    except ZeroDivisionError:\n",
    "        print(\"denom not a zero\")\n",
    "    except ZeroDenominator:\n",
    "        print('error raised')\n",
    "    # if  none of these exceptions come sthen we go to this\n",
    "    except:\n",
    "        print('some error')\n"
   ]
  },
  {
   "cell_type": "code",
   "execution_count": 19,
   "metadata": {},
   "outputs": [],
   "source": [
    "# else and finally\n",
    "# if no error comes then the code will be executed\n",
    "# finally comes at last -- will be executed whether error is there or not"
   ]
  },
  {
   "cell_type": "code",
   "execution_count": 20,
   "metadata": {},
   "outputs": [
    {
     "name": "stdout",
     "output_type": "stream",
     "text": [
      "enter an integer1\n",
      "enter another integer2\n",
      "0.5\n",
      "error or not\n"
     ]
    }
   ],
   "source": [
    "class ZeroDenominator(ZeroDivisionError):\n",
    "    \n",
    "    def __init__(self):\n",
    "        print('denominator should not be zero!!')\n",
    "\n",
    "while True:\n",
    "    try :\n",
    "        c=input('enter an integer')\n",
    "        num=int(c)\n",
    "        n=input('enter another integer')\n",
    "        den=int(n)\n",
    "        if den==0:\n",
    "            raise ZeroDenominator   # Raise an error\n",
    "\n",
    "    except ValueError:\n",
    "        print('enter integers only')\n",
    "    except ZeroDivisionError:\n",
    "        print(\"denom not a zero\")\n",
    "    except ZeroDenominator:\n",
    "        print('error raised')\n",
    "    # if  none of these exceptions come sthen we go to this\n",
    "    except:\n",
    "        print('some error')\n",
    "    else:\n",
    "        print(num/den)\n",
    "        break\n",
    "    finally:\n",
    "        print('error or not')\n"
   ]
  },
  {
   "cell_type": "code",
   "execution_count": 26,
   "metadata": {},
   "outputs": [
    {
     "name": "stdout",
     "output_type": "stream",
     "text": [
      "1\n",
      "2\n",
      "************* Module simple1.py\n",
      "simple1.py:1:0: F0001: No module named simple1.py (fatal)\n"
     ]
    }
   ],
   "source": [
    "#UNIT TESTING:\n",
    "# 1. pylint   --- looks at your code and report possible errors\n",
    "#    it gives a report that includes  any error that came up also statistics on functions,classes used etc and finally\n",
    "#    a global evaluation score\n",
    "#    in command prompt run [pylint (filename).py]\n"
   ]
  },
  {
   "cell_type": "code",
   "execution_count": 27,
   "metadata": {},
   "outputs": [],
   "source": [
    "# 2. unittest --- allows to test your own program and check for desired results\n",
    "#stored in file name cap.py\n",
    "# def cap_text(text):\n",
    "#     return text.capitalize()\n",
    "#     return text.title()---- this  will give correct results"
   ]
  },
  {
   "cell_type": "code",
   "execution_count": 34,
   "metadata": {},
   "outputs": [],
   "source": [
    "#import unittest\n",
    "#import cap\n",
    "\n",
    "#class TestCap(unittest.TestCase):\n",
    "    \n",
    "#    def test_one_word(self):\n",
    "#        text = 'python'\n",
    "#        result = cap_text(text)\n",
    "#        self.assertEqual(result, 'Python')\n",
    "\n",
    "#    def test_multiple_words(self):\n",
    "#        text = 'monty python'\n",
    "#        result =cap_text(text)\n",
    "#        self.assertEqual(result, 'Monty Python')\n",
    "        \n",
    "#if __name__ == '__main__':\n",
    "#    unittest.main()"
   ]
  },
  {
   "cell_type": "code",
   "execution_count": null,
   "metadata": {},
   "outputs": [],
   "source": []
  }
 ],
 "metadata": {
  "kernelspec": {
   "display_name": "Python 3",
   "language": "python",
   "name": "python3"
  },
  "language_info": {
   "codemirror_mode": {
    "name": "ipython",
    "version": 3
   },
   "file_extension": ".py",
   "mimetype": "text/x-python",
   "name": "python",
   "nbconvert_exporter": "python",
   "pygments_lexer": "ipython3",
   "version": "3.7.6"
  }
 },
 "nbformat": 4,
 "nbformat_minor": 4
}
